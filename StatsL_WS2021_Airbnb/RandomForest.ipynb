{
 "cells": [
  {
   "cell_type": "code",
   "execution_count": 19,
   "id": "85d9871d",
   "metadata": {},
   "outputs": [],
   "source": [
    "import numpy as np\n",
    "import pandas as pd\n",
    "import seaborn as sns\n",
    "import matplotlib.pyplot as plt"
   ]
  },
  {
   "cell_type": "code",
   "execution_count": 20,
   "id": "b8558cc1",
   "metadata": {},
   "outputs": [],
   "source": [
    "# Listings Datei einlesen\n",
    "df_listings = pd.read_csv(r\"C:\\Users\\leand\\Desktop\\Seminar\\listings(1).csv.gz\")"
   ]
  },
  {
   "cell_type": "code",
   "execution_count": 21,
   "id": "8ed8b189",
   "metadata": {},
   "outputs": [
    {
     "data": {
      "text/plain": [
       "(17290,)"
      ]
     },
     "execution_count": 21,
     "metadata": {},
     "output_type": "execute_result"
    }
   ],
   "source": [
    "df_listings.shape[0],"
   ]
  },
  {
   "cell_type": "code",
   "execution_count": 22,
   "id": "b92c3f88",
   "metadata": {},
   "outputs": [
    {
     "name": "stdout",
     "output_type": "stream",
     "text": [
      "Wir entfernen 9340 Angebote, die nicht mehr aktiv sind\n",
      "Damit bleiben noch 7950 Angebote\n"
     ]
    }
   ],
   "source": [
    "# Inaktive Angebote entfernen\n",
    "count_dropout = df_listings[df_listings['availability_365'] == 0].shape[0]\n",
    "print(f\"Wir entfernen {count_dropout} Angebote, die nicht mehr aktiv sind\")\n",
    "df_listings_cleansed = df_listings.drop(df_listings[df_listings.availability_365 == 0].index)\n",
    "df_listings_cleansed.reset_index(inplace = True)\n",
    "ratio = round(100*count_dropout/df_listings.shape[0],1)\n",
    "print(f\"Damit bleiben noch {df_listings_cleansed.shape[0]} Angebote\")"
   ]
  },
  {
   "cell_type": "code",
   "execution_count": 23,
   "id": "21daad80",
   "metadata": {},
   "outputs": [
    {
     "name": "stdout",
     "output_type": "stream",
     "text": [
      "Wir entfernen ['scrape_id', 'has_availability']\n"
     ]
    }
   ],
   "source": [
    "# Spalten entfernen, die immer den gleichen Wert haben\n",
    "print('Wir entfernen ' + str(df_listings_cleansed.columns[df_listings_cleansed.nunique()==1].to_list()))\n",
    "df_listings_cleansed.drop(columns= df_listings_cleansed.columns[df_listings_cleansed.nunique()==1].to_list(), inplace = True)"
   ]
  },
  {
   "cell_type": "code",
   "execution_count": 24,
   "id": "96ccd8f7",
   "metadata": {},
   "outputs": [
    {
     "name": "stdout",
     "output_type": "stream",
     "text": [
      "Wir entfernen:\n",
      "-  bathrooms\n",
      "-  calendar_updated\n"
     ]
    }
   ],
   "source": [
    "#Spalten entfernen, die über 80% missing values haben\n",
    "nan_s = df_listings_cleansed.columns[df_listings_cleansed.isnull().mean()>.80]\n",
    "print('Wir entfernen:')\n",
    "for s in range(len(nan_s)):\n",
    "    print('- ', nan_s[s])\n",
    "\n",
    "df_listings_cleansed = df_listings_cleansed.dropna(thresh = len(df_listings_cleansed)* .05, axis=1)   "
   ]
  },
  {
   "cell_type": "code",
   "execution_count": 25,
   "id": "b433d946",
   "metadata": {},
   "outputs": [
    {
     "name": "stdout",
     "output_type": "stream",
     "text": [
      "<class 'pandas.core.frame.DataFrame'>\n",
      "RangeIndex: 7950 entries, 0 to 7949\n",
      "Data columns (total 71 columns):\n",
      " #   Column                                        Non-Null Count  Dtype  \n",
      "---  ------                                        --------------  -----  \n",
      " 0   index                                         7950 non-null   int64  \n",
      " 1   id                                            7950 non-null   int64  \n",
      " 2   listing_url                                   7950 non-null   object \n",
      " 3   last_scraped                                  7950 non-null   object \n",
      " 4   name                                          7950 non-null   object \n",
      " 5   description                                   7770 non-null   object \n",
      " 6   neighborhood_overview                         4555 non-null   object \n",
      " 7   picture_url                                   7950 non-null   object \n",
      " 8   host_id                                       7950 non-null   int64  \n",
      " 9   host_url                                      7950 non-null   object \n",
      " 10  host_name                                     7950 non-null   object \n",
      " 11  host_since                                    7950 non-null   object \n",
      " 12  host_location                                 7942 non-null   object \n",
      " 13  host_about                                    4647 non-null   object \n",
      " 14  host_response_time                            7090 non-null   object \n",
      " 15  host_response_rate                            7090 non-null   object \n",
      " 16  host_acceptance_rate                          7299 non-null   object \n",
      " 17  host_is_superhost                             7950 non-null   object \n",
      " 18  host_thumbnail_url                            7950 non-null   object \n",
      " 19  host_picture_url                              7950 non-null   object \n",
      " 20  host_neighbourhood                            5002 non-null   object \n",
      " 21  host_listings_count                           7950 non-null   float64\n",
      " 22  host_total_listings_count                     7950 non-null   float64\n",
      " 23  host_verifications                            7950 non-null   object \n",
      " 24  host_has_profile_pic                          7950 non-null   object \n",
      " 25  host_identity_verified                        7950 non-null   object \n",
      " 26  neighbourhood                                 4555 non-null   object \n",
      " 27  neighbourhood_cleansed                        7950 non-null   object \n",
      " 28  neighbourhood_group_cleansed                  7950 non-null   object \n",
      " 29  latitude                                      7950 non-null   float64\n",
      " 30  longitude                                     7950 non-null   float64\n",
      " 31  property_type                                 7950 non-null   object \n",
      " 32  room_type                                     7950 non-null   object \n",
      " 33  accommodates                                  7950 non-null   int64  \n",
      " 34  bathrooms_text                                7937 non-null   object \n",
      " 35  bedrooms                                      7159 non-null   float64\n",
      " 36  beds                                          7714 non-null   float64\n",
      " 37  amenities                                     7950 non-null   object \n",
      " 38  price                                         7950 non-null   object \n",
      " 39  minimum_nights                                7950 non-null   int64  \n",
      " 40  maximum_nights                                7950 non-null   int64  \n",
      " 41  minimum_minimum_nights                        7950 non-null   float64\n",
      " 42  maximum_minimum_nights                        7950 non-null   float64\n",
      " 43  minimum_maximum_nights                        7950 non-null   float64\n",
      " 44  maximum_maximum_nights                        7950 non-null   float64\n",
      " 45  minimum_nights_avg_ntm                        7950 non-null   float64\n",
      " 46  maximum_nights_avg_ntm                        7950 non-null   float64\n",
      " 47  availability_30                               7950 non-null   int64  \n",
      " 48  availability_60                               7950 non-null   int64  \n",
      " 49  availability_90                               7950 non-null   int64  \n",
      " 50  availability_365                              7950 non-null   int64  \n",
      " 51  calendar_last_scraped                         7950 non-null   object \n",
      " 52  number_of_reviews                             7950 non-null   int64  \n",
      " 53  number_of_reviews_ltm                         7950 non-null   int64  \n",
      " 54  number_of_reviews_l30d                        7950 non-null   int64  \n",
      " 55  first_review                                  6661 non-null   object \n",
      " 56  last_review                                   6661 non-null   object \n",
      " 57  review_scores_rating                          6661 non-null   float64\n",
      " 58  review_scores_accuracy                        6626 non-null   float64\n",
      " 59  review_scores_cleanliness                     6626 non-null   float64\n",
      " 60  review_scores_checkin                         6626 non-null   float64\n",
      " 61  review_scores_communication                   6626 non-null   float64\n",
      " 62  review_scores_location                        6626 non-null   float64\n",
      " 63  review_scores_value                           6626 non-null   float64\n",
      " 64  license                                       3538 non-null   object \n",
      " 65  instant_bookable                              7950 non-null   object \n",
      " 66  calculated_host_listings_count                7950 non-null   int64  \n",
      " 67  calculated_host_listings_count_entire_homes   7950 non-null   int64  \n",
      " 68  calculated_host_listings_count_private_rooms  7950 non-null   int64  \n",
      " 69  calculated_host_listings_count_shared_rooms   7950 non-null   int64  \n",
      " 70  reviews_per_month                             6661 non-null   float64\n",
      "dtypes: float64(20), int64(17), object(34)\n",
      "memory usage: 4.3+ MB\n"
     ]
    }
   ],
   "source": [
    "# Datentypen überprüfen\n",
    "df_listings_cleansed.info()"
   ]
  },
  {
   "cell_type": "markdown",
   "id": "2f1a8dc6",
   "metadata": {},
   "source": [
    "# Daten vorbereiten"
   ]
  },
  {
   "cell_type": "code",
   "execution_count": 26,
   "id": "6dbf2e00",
   "metadata": {},
   "outputs": [
    {
     "data": {
      "text/plain": [
       "0        53.0\n",
       "1        90.0\n",
       "2        33.0\n",
       "3       180.0\n",
       "4        70.0\n",
       "        ...  \n",
       "7945     33.0\n",
       "7946     25.0\n",
       "7947     60.0\n",
       "7948     26.0\n",
       "7949     39.0\n",
       "Name: price, Length: 7950, dtype: float64"
      ]
     },
     "execution_count": 26,
     "metadata": {},
     "output_type": "execute_result"
    }
   ],
   "source": [
    "# Price Daten zu float umwandeln\n",
    "df_listings_cleansed['price'] = df_listings.price.replace('[\\$,]', '', regex=True).astype(float)\n",
    "# Price Werte angucken\n",
    "df_listings_cleansed['price']"
   ]
  },
  {
   "cell_type": "code",
   "execution_count": 27,
   "id": "22121266",
   "metadata": {},
   "outputs": [
    {
     "name": "stdout",
     "output_type": "stream",
     "text": [
      "Folgende Spalten wurden umgewandelt: \n",
      " ['host_is_superhost', 'host_has_profile_pic', 'host_identity_verified', 'instant_bookable']\n"
     ]
    }
   ],
   "source": [
    "# t, f Daten zu boolean umwandeln\n",
    "transform_boolean = lambda x: (True if x == \"t\" else False)  \n",
    "\n",
    "df = pd.DataFrame(df_listings_cleansed.iloc[0, 0:df_listings_cleansed.shape[1]].reset_index())\n",
    "boolean_cols  = list(df[(df[0] == 'f') | (df[0] == 't')]['index'])\n",
    "\n",
    "for col in boolean_cols:\n",
    "    df_listings_cleansed[col] = df_listings_cleansed[col].apply(transform_boolean)\n",
    "    \n",
    "print('Folgende Spalten wurden umgewandelt: \\n', boolean_cols)\n",
    "    "
   ]
  },
  {
   "cell_type": "code",
   "execution_count": 28,
   "id": "30a6b622",
   "metadata": {},
   "outputs": [
    {
     "name": "stdout",
     "output_type": "stream",
     "text": [
      "Folgende Spalten wurden umgewandelt: \n",
      " ['host_response_rate', 'host_acceptance_rate']\n"
     ]
    }
   ],
   "source": [
    "# Prozent Spalten umwandeln\n",
    "def transform_percentage(s_percentage):\n",
    "    return s_percentage.str.replace('%','').astype(float)/100\n",
    "percentage_cols = ['host_response_rate', 'host_acceptance_rate']\n",
    "\n",
    "for col in percentage_cols:\n",
    "    df_listings_cleansed[col] = transform_percentage(df_listings_cleansed[col])\n",
    "    \n",
    "print('Folgende Spalten wurden umgewandelt: \\n', percentage_cols)"
   ]
  },
  {
   "cell_type": "code",
   "execution_count": 29,
   "id": "a1543cad",
   "metadata": {},
   "outputs": [
    {
     "name": "stdout",
     "output_type": "stream",
     "text": [
      "<class 'pandas.core.frame.DataFrame'>\n",
      "RangeIndex: 7950 entries, 0 to 7949\n",
      "Data columns (total 27 columns):\n",
      " #   Column                        Non-Null Count  Dtype \n",
      "---  ------                        --------------  ----- \n",
      " 0   listing_url                   7950 non-null   object\n",
      " 1   last_scraped                  7950 non-null   object\n",
      " 2   name                          7950 non-null   object\n",
      " 3   description                   7770 non-null   object\n",
      " 4   neighborhood_overview         4555 non-null   object\n",
      " 5   picture_url                   7950 non-null   object\n",
      " 6   host_url                      7950 non-null   object\n",
      " 7   host_name                     7950 non-null   object\n",
      " 8   host_since                    7950 non-null   object\n",
      " 9   host_location                 7942 non-null   object\n",
      " 10  host_about                    4647 non-null   object\n",
      " 11  host_response_time            7090 non-null   object\n",
      " 12  host_thumbnail_url            7950 non-null   object\n",
      " 13  host_picture_url              7950 non-null   object\n",
      " 14  host_neighbourhood            5002 non-null   object\n",
      " 15  host_verifications            7950 non-null   object\n",
      " 16  neighbourhood                 4555 non-null   object\n",
      " 17  neighbourhood_cleansed        7950 non-null   object\n",
      " 18  neighbourhood_group_cleansed  7950 non-null   object\n",
      " 19  property_type                 7950 non-null   object\n",
      " 20  room_type                     7950 non-null   object\n",
      " 21  bathrooms_text                7937 non-null   object\n",
      " 22  amenities                     7950 non-null   object\n",
      " 23  calendar_last_scraped         7950 non-null   object\n",
      " 24  first_review                  6661 non-null   object\n",
      " 25  last_review                   6661 non-null   object\n",
      " 26  license                       3538 non-null   object\n",
      "dtypes: object(27)\n",
      "memory usage: 1.6+ MB\n"
     ]
    }
   ],
   "source": [
    "# Die Daten auf einen neuen DataFrame kopieren, um sie zu encoden\n",
    "df_listings_encoded = df_listings_cleansed.copy(deep=True)\n",
    "# Spalten mit Datentyp: object\n",
    "df_listings_cleansed.select_dtypes('object').info();"
   ]
  },
  {
   "cell_type": "code",
   "execution_count": 30,
   "id": "30842d83",
   "metadata": {},
   "outputs": [],
   "source": [
    "# Entfernen Spalten, die uninteressant sind, um den Preis vorherzusagen\n",
    "features_to_drop = ['host_about', 'listing_url', 'picture_url','host_url', \n",
    "                    'host_thumbnail_url','host_picture_url','name', 'neighborhood_overview', \n",
    "                    'description','host_name', 'host_location', 'host_neighbourhood', 'last_scraped', 'calendar_last_scraped', 'first_review', 'last_review', \n",
    "                    'host_since', 'host_total_listings_count', 'neighbourhood', 'license']\n",
    "df_listings_encoded.drop(features_to_drop, axis=1, inplace=True)"
   ]
  },
  {
   "cell_type": "code",
   "execution_count": 31,
   "id": "302e9824",
   "metadata": {},
   "outputs": [
    {
     "name": "stdout",
     "output_type": "stream",
     "text": [
      "<class 'pandas.core.frame.DataFrame'>\n",
      "RangeIndex: 7950 entries, 0 to 7949\n",
      "Data columns (total 51 columns):\n",
      " #   Column                                        Non-Null Count  Dtype  \n",
      "---  ------                                        --------------  -----  \n",
      " 0   index                                         7950 non-null   int64  \n",
      " 1   id                                            7950 non-null   int64  \n",
      " 2   host_id                                       7950 non-null   int64  \n",
      " 3   host_response_time                            7090 non-null   object \n",
      " 4   host_response_rate                            7090 non-null   float64\n",
      " 5   host_acceptance_rate                          7299 non-null   float64\n",
      " 6   host_is_superhost                             7950 non-null   bool   \n",
      " 7   host_listings_count                           7950 non-null   float64\n",
      " 8   host_verifications                            7950 non-null   object \n",
      " 9   host_has_profile_pic                          7950 non-null   bool   \n",
      " 10  host_identity_verified                        7950 non-null   bool   \n",
      " 11  neighbourhood_cleansed                        7950 non-null   object \n",
      " 12  neighbourhood_group_cleansed                  7950 non-null   object \n",
      " 13  latitude                                      7950 non-null   float64\n",
      " 14  longitude                                     7950 non-null   float64\n",
      " 15  property_type                                 7950 non-null   object \n",
      " 16  room_type                                     7950 non-null   object \n",
      " 17  accommodates                                  7950 non-null   int64  \n",
      " 18  bathrooms_text                                7937 non-null   object \n",
      " 19  bedrooms                                      7159 non-null   float64\n",
      " 20  beds                                          7714 non-null   float64\n",
      " 21  amenities                                     7950 non-null   object \n",
      " 22  price                                         7950 non-null   float64\n",
      " 23  minimum_nights                                7950 non-null   int64  \n",
      " 24  maximum_nights                                7950 non-null   int64  \n",
      " 25  minimum_minimum_nights                        7950 non-null   float64\n",
      " 26  maximum_minimum_nights                        7950 non-null   float64\n",
      " 27  minimum_maximum_nights                        7950 non-null   float64\n",
      " 28  maximum_maximum_nights                        7950 non-null   float64\n",
      " 29  minimum_nights_avg_ntm                        7950 non-null   float64\n",
      " 30  maximum_nights_avg_ntm                        7950 non-null   float64\n",
      " 31  availability_30                               7950 non-null   int64  \n",
      " 32  availability_60                               7950 non-null   int64  \n",
      " 33  availability_90                               7950 non-null   int64  \n",
      " 34  availability_365                              7950 non-null   int64  \n",
      " 35  number_of_reviews                             7950 non-null   int64  \n",
      " 36  number_of_reviews_ltm                         7950 non-null   int64  \n",
      " 37  number_of_reviews_l30d                        7950 non-null   int64  \n",
      " 38  review_scores_rating                          6661 non-null   float64\n",
      " 39  review_scores_accuracy                        6626 non-null   float64\n",
      " 40  review_scores_cleanliness                     6626 non-null   float64\n",
      " 41  review_scores_checkin                         6626 non-null   float64\n",
      " 42  review_scores_communication                   6626 non-null   float64\n",
      " 43  review_scores_location                        6626 non-null   float64\n",
      " 44  review_scores_value                           6626 non-null   float64\n",
      " 45  instant_bookable                              7950 non-null   bool   \n",
      " 46  calculated_host_listings_count                7950 non-null   int64  \n",
      " 47  calculated_host_listings_count_entire_homes   7950 non-null   int64  \n",
      " 48  calculated_host_listings_count_private_rooms  7950 non-null   int64  \n",
      " 49  calculated_host_listings_count_shared_rooms   7950 non-null   int64  \n",
      " 50  reviews_per_month                             6661 non-null   float64\n",
      "dtypes: bool(4), float64(22), int64(17), object(8)\n",
      "memory usage: 2.9+ MB\n"
     ]
    }
   ],
   "source": [
    "# Spalten die noch übrig sind\n",
    "df_listings_encoded.info()"
   ]
  },
  {
   "cell_type": "code",
   "execution_count": 32,
   "id": "811cec0f",
   "metadata": {},
   "outputs": [],
   "source": [
    "# Leere Zellen mit Durchschnittswert auffüllen\n",
    "numerical_columns = df_listings_encoded.select_dtypes(np.number).columns\n",
    "\n",
    "for col in numerical_columns:\n",
    "    df_listings_encoded[col] = df_listings_encoded[col].fillna(df_listings_encoded[col].mean())\n",
    "      \n",
    "df_listings_encoded.dropna(inplace=True)"
   ]
  },
  {
   "cell_type": "code",
   "execution_count": 33,
   "id": "03fac4dc",
   "metadata": {},
   "outputs": [],
   "source": [
    "# Daten encoden\n",
    "\n",
    "# Encode 'amenities' \n",
    "df_listings_encoded.amenities = df_listings_encoded.amenities.str.replace('[{\"\"}]', \"\", regex= True)\n",
    "df_amenities = df_listings_encoded.amenities.str.get_dummies(sep=\",\")\n",
    "df_listings_encoded = pd.concat([df_listings_encoded, df_amenities], axis=1) \n",
    "\n",
    "# Encode 'host_verifications'\n",
    "df_listings_encoded.host_verifications = df_listings_encoded.host_verifications.str.replace(\"['']\", \"\", regex= True)\n",
    "df_verification = df_listings_encoded.host_verifications.str.get_dummies(sep=\",\")\n",
    "df_listings_encoded = pd.concat([df_listings_encoded, df_verification], axis=1)\n",
    "    \n",
    "# Encode 'host_response_time'\n",
    "dict_response_time = {'within an hour': 1, 'within a few hours': 2, 'within a day': 3, 'a few days or more': 4}\n",
    "df_listings_encoded['host_response_time'] = df_listings_encoded['host_response_time'].map(dict_response_time)\n",
    "\n",
    "# Andere Merkmale encoden \n",
    "for categorical_feature in ['neighbourhood_cleansed', 'property_type', 'room_type','neighbourhood_group_cleansed', 'bathrooms_text']:\n",
    "    df_listings_encoded = pd.concat([df_listings_encoded, \n",
    "                                     pd.get_dummies(df_listings_encoded[categorical_feature], prefix = categorical_feature)], axis=1)\n",
    "        \n",
    "# Encodete Merkmale entfernen\n",
    "df_listings_encoded.drop(['amenities', 'host_verifications', 'neighbourhood_cleansed', 'property_type', 'room_type',\n",
    "                          'id', 'host_id', 'latitude', 'longitude','neighbourhood_group_cleansed', 'bathrooms_text'],\n",
    "                         axis=1, inplace=True)"
   ]
  },
  {
   "cell_type": "code",
   "execution_count": 34,
   "id": "c4846eb8",
   "metadata": {},
   "outputs": [
    {
     "data": {
      "text/plain": [
       "(7083, 1442)"
      ]
     },
     "execution_count": 34,
     "metadata": {},
     "output_type": "execute_result"
    }
   ],
   "source": [
    "df_listings_encoded.shape"
   ]
  },
  {
   "cell_type": "code",
   "execution_count": 35,
   "id": "64a6833e",
   "metadata": {},
   "outputs": [],
   "source": [
    "from sklearn.model_selection import train_test_split\n",
    "from sklearn.metrics import r2_score, mean_squared_error, median_absolute_error\n",
    "from sklearn.ensemble import RandomForestRegressor\n",
    "from sklearn.utils import shuffle\n",
    "from sklearn.model_selection import GridSearchCV"
   ]
  },
  {
   "cell_type": "code",
   "execution_count": 36,
   "id": "e20b1aec",
   "metadata": {},
   "outputs": [
    {
     "name": "stdout",
     "output_type": "stream",
     "text": [
      "Training set: X_train:(4958, 1440) Y_train:(4958,)\n",
      "Test set: X_test:(2125, 1440) Y_test:(2125,)\n",
      "-\n",
      "Full dataset: X:(7083, 1440) Y:(7083,)\n"
     ]
    }
   ],
   "source": [
    "# Die Daten mischen, für eine gute Verteilung\n",
    "df_listings_encoded = shuffle(df_listings_encoded)\n",
    "\n",
    "X = df_listings_encoded.drop(['price', 'index'], axis = 1)\n",
    "y = df_listings_encoded['price']\n",
    "\n",
    "# Teile den Datensatz in \"Training Set\" und \"Test Set\"\n",
    "X_train, X_test, y_train, y_test = train_test_split(X, y, test_size=0.3, random_state=1)\n",
    "\n",
    "print(\"Training set: X_train:{} Y_train:{}\".format(X_train.shape, y_train.shape))\n",
    "print(\"Test set: X_test:{} Y_test:{}\".format(X_test.shape, y_test.shape))\n",
    "print(\"-\")\n",
    "print(\"Full dataset: X:{} Y:{}\".format(X.shape, y.shape))"
   ]
  },
  {
   "cell_type": "markdown",
   "id": "d536667f",
   "metadata": {},
   "source": [
    "# Modelierung"
   ]
  },
  {
   "cell_type": "code",
   "execution_count": 42,
   "id": "704a7d25",
   "metadata": {},
   "outputs": [],
   "source": [
    "model = RandomForestRegressor(max_depth=35, n_estimators=200,\n",
    "                              criterion='mse', random_state=1)\n",
    "#model = RandomForestRegressor(max_depth=40, n_estimators=200,criterion='mse', random_state=1)\n",
    "#model = RandomForestRegressor(max_depth=20, n_estimators=200,criterion='mse', random_state=1)\n",
    "\n",
    "model.fit(X, y)\n",
    "        \n",
    "prediction = model.predict(X_test)\n"
   ]
  },
  {
   "cell_type": "markdown",
   "id": "31256ac0",
   "metadata": {},
   "source": [
    "# Evaluierung\n"
   ]
  },
  {
   "cell_type": "code",
   "execution_count": 43,
   "id": "639fd85d",
   "metadata": {},
   "outputs": [],
   "source": [
    "from sklearn.metrics import mean_absolute_error\n",
    "from sklearn.metrics import mean_absolute_error, mean_squared_error, r2_score\n",
    "from sklearn.model_selection import cross_val_score\n",
    "from sklearn import metrics\n",
    "\n"
   ]
  },
  {
   "cell_type": "code",
   "execution_count": 44,
   "id": "a55e7524",
   "metadata": {},
   "outputs": [
    {
     "name": "stdout",
     "output_type": "stream",
     "text": [
      "R²-score: 0.7667\n",
      "Mean Absolute Error(MAE): 23.7181\n",
      "Mean Squared Error(MSE): 1978.6933\n",
      "Root Mean Squared Error(RMSE): 44\n"
     ]
    }
   ],
   "source": [
    "print(\"R²-score:\", round(model.score(X_test, y_test), 4))\n",
    "print('Mean Absolute Error(MAE):', round(metrics.mean_absolute_error(y_test, prediction), 4))\n",
    "print('Mean Squared Error(MSE):', round(metrics.mean_squared_error(y_test, prediction), 4))\n",
    "print('Root Mean Squared Error(RMSE):', round(np.sqrt(metrics.mean_squared_error(y_test, prediction))))"
   ]
  },
  {
   "cell_type": "code",
   "execution_count": 45,
   "id": "8146d7cb",
   "metadata": {},
   "outputs": [],
   "source": [
    "def final_result(y_test,y_train):\n",
    "    dic = {\"actual_y\" : y_test.values, \"predicted_y\" : prediction}\n",
    "    result = pd.DataFrame(dic)\n",
    "    return result"
   ]
  },
  {
   "cell_type": "code",
   "execution_count": 41,
   "id": "71b73fdc",
   "metadata": {},
   "outputs": [
    {
     "data": {
      "text/html": [
       "<div>\n",
       "<style scoped>\n",
       "    .dataframe tbody tr th:only-of-type {\n",
       "        vertical-align: middle;\n",
       "    }\n",
       "\n",
       "    .dataframe tbody tr th {\n",
       "        vertical-align: top;\n",
       "    }\n",
       "\n",
       "    .dataframe thead th {\n",
       "        text-align: right;\n",
       "    }\n",
       "</style>\n",
       "<table border=\"1\" class=\"dataframe\">\n",
       "  <thead>\n",
       "    <tr style=\"text-align: right;\">\n",
       "      <th></th>\n",
       "      <th>actual_y</th>\n",
       "      <th>predicted_y</th>\n",
       "    </tr>\n",
       "  </thead>\n",
       "  <tbody>\n",
       "    <tr>\n",
       "      <th>0</th>\n",
       "      <td>41.0</td>\n",
       "      <td>51.606508</td>\n",
       "    </tr>\n",
       "    <tr>\n",
       "      <th>1</th>\n",
       "      <td>140.0</td>\n",
       "      <td>80.105433</td>\n",
       "    </tr>\n",
       "    <tr>\n",
       "      <th>2</th>\n",
       "      <td>70.0</td>\n",
       "      <td>74.326041</td>\n",
       "    </tr>\n",
       "    <tr>\n",
       "      <th>3</th>\n",
       "      <td>25.0</td>\n",
       "      <td>44.599923</td>\n",
       "    </tr>\n",
       "    <tr>\n",
       "      <th>4</th>\n",
       "      <td>63.0</td>\n",
       "      <td>64.311358</td>\n",
       "    </tr>\n",
       "    <tr>\n",
       "      <th>5</th>\n",
       "      <td>47.0</td>\n",
       "      <td>55.000344</td>\n",
       "    </tr>\n",
       "    <tr>\n",
       "      <th>6</th>\n",
       "      <td>60.0</td>\n",
       "      <td>54.508705</td>\n",
       "    </tr>\n",
       "    <tr>\n",
       "      <th>7</th>\n",
       "      <td>57.0</td>\n",
       "      <td>57.136057</td>\n",
       "    </tr>\n",
       "    <tr>\n",
       "      <th>8</th>\n",
       "      <td>119.0</td>\n",
       "      <td>73.863528</td>\n",
       "    </tr>\n",
       "    <tr>\n",
       "      <th>9</th>\n",
       "      <td>35.0</td>\n",
       "      <td>47.464750</td>\n",
       "    </tr>\n",
       "  </tbody>\n",
       "</table>\n",
       "</div>"
      ],
      "text/plain": [
       "   actual_y  predicted_y\n",
       "0      41.0    51.606508\n",
       "1     140.0    80.105433\n",
       "2      70.0    74.326041\n",
       "3      25.0    44.599923\n",
       "4      63.0    64.311358\n",
       "5      47.0    55.000344\n",
       "6      60.0    54.508705\n",
       "7      57.0    57.136057\n",
       "8     119.0    73.863528\n",
       "9      35.0    47.464750"
      ]
     },
     "execution_count": 41,
     "metadata": {},
     "output_type": "execute_result"
    }
   ],
   "source": [
    "final_result(y_test,prediction).head(10)"
   ]
  },
  {
   "cell_type": "code",
   "execution_count": 24,
   "id": "c8b460cd",
   "metadata": {},
   "outputs": [],
   "source": [
    "# Wichtige Merkmale \n",
    "importances = model.feature_importances_\n",
    "    \n",
    "values = sorted(zip(X_train.columns, model.feature_importances_), key=lambda x: x[1] * -1)\n",
    "feature_importances = pd.DataFrame(values, columns=[\"feature\", \"score\"])\n",
    "feature_importances = feature_importances.sort_values(by=['score'], ascending = False)\n",
    "\n",
    "features = feature_importances['feature'][:10]\n",
    "y_feature = np.arange(len(features))\n",
    "score = feature_importances['score'][:10]"
   ]
  },
  {
   "cell_type": "code",
   "execution_count": 25,
   "id": "23fc1890",
   "metadata": {},
   "outputs": [
    {
     "data": {
      "image/png": "[encoded data removed]",
      "text/plain": [
       "<Figure size 576x432 with 1 Axes>"
      ]
     },
     "metadata": {
      "needs_background": "light"
     },
     "output_type": "display_data"
    }
   ],
   "source": [
    "# Wichtige Merkmale plotten\n",
    "\n",
    "plt.figure(figsize=(8,6));\n",
    "sns.barplot(y = features, x = score, color = 'blue');\n",
    "plt.xticks([])\n",
    "plt.yticks(fontsize = 12)\n",
    "plt.xlabel('')\n",
    "plt.ylabel('Merkmale', fontsize = 14);\n",
    "plt.title('\\n Wichtigste Merkmale (TOP 10) \\n', fontsize = 16);\n",
    "\n",
    "locs, labels = plt.yticks()\n",
    "\n",
    "for loc, label in zip(locs, labels):\n",
    "    plt.text(score[loc]+.005, loc, '{:0.2f}'.format(score[loc]), ha = 'center', color = 'black', fontsize = 12)"
   ]
  },
  {
   "cell_type": "code",
   "execution_count": null,
   "id": "4d9873b9",
   "metadata": {},
   "outputs": [],
   "source": []
  }
 ],
 "metadata": {
  "kernelspec": {
   "display_name": "Python 3 (ipykernel)",
   "language": "python",
   "name": "python3"
  },
  "language_info": {
   "codemirror_mode": {
    "name": "ipython",
    "version": 3
   },
   "file_extension": ".py",
   "mimetype": "text/x-python",
   "name": "python",
   "nbconvert_exporter": "python",
   "pygments_lexer": "ipython3",
   "version": "3.8.8"
  }
 },
 "nbformat": 4,
 "nbformat_minor": 5
}
